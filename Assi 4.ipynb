{
 "cells": [
  {
   "cell_type": "code",
   "execution_count": 1,
   "metadata": {},
   "outputs": [
    {
     "name": "stdout",
     "output_type": "stream",
     "text": [
      "220\n"
     ]
    }
   ],
   "source": [
    "# A naive recursive implementation\n",
    "# of 0-1 Knapsack Problem\n",
    " \n",
    "# Returns the maximum value that\n",
    "# can be put in a knapsack of\n",
    "# capacity W\n",
    " \n",
    " \n",
    "def knapSack(W, wt, val, n):\n",
    " \n",
    "    # Base Case\n",
    "    if n == 0 or W == 0:\n",
    "        return 0\n",
    " \n",
    "    # If weight of the nth item is\n",
    "    # more than Knapsack of capacity W,\n",
    "    # then this item cannot be included\n",
    "    # in the optimal solution\n",
    "    if (wt[n-1] > W):\n",
    "        return knapSack(W, wt, val, n-1)\n",
    " \n",
    "    # return the maximum of two cases:\n",
    "    # (1) nth item included\n",
    "    # (2) not included\n",
    "    else:\n",
    "        return max(\n",
    "            val[n-1] + knapSack(\n",
    "                W-wt[n-1], wt, val, n-1),\n",
    "            knapSack(W, wt, val, n-1))\n",
    " \n",
    "# end of function knapSack\n",
    " \n",
    " \n",
    "#Driver Code\n",
    "val = [60, 100, 120]\n",
    "wt = [10, 20, 30]\n",
    "W = 50\n",
    "n = len(val)\n",
    "print (knapSack(W, wt, val, n))"
   ]
  },
  {
   "cell_type": "code",
   "execution_count": null,
   "metadata": {},
   "outputs": [],
   "source": []
  }
 ],
 "metadata": {
  "kernelspec": {
   "display_name": "Python 3",
   "language": "python",
   "name": "python3"
  },
  "language_info": {
   "codemirror_mode": {
    "name": "ipython",
    "version": 3
   },
   "file_extension": ".py",
   "mimetype": "text/x-python",
   "name": "python",
   "nbconvert_exporter": "python",
   "pygments_lexer": "ipython3",
   "version": "3.8.3"
  }
 },
 "nbformat": 4,
 "nbformat_minor": 4
}
